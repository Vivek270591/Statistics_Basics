{
  "nbformat": 4,
  "nbformat_minor": 0,
  "metadata": {
    "colab": {
      "provenance": []
    },
    "kernelspec": {
      "name": "python3",
      "display_name": "Python 3"
    },
    "language_info": {
      "name": "python"
    }
  },
  "cells": [
    {
      "cell_type": "markdown",
      "source": [
        "#1What is statistics, and why is it important\n",
        "Ans - Statistics is the science of collecting, analyzing, interpreting, presenting, and organizing data. It is important because it helps in decision-making, identifying trends, and making predictions in various fields such as business, healthcare, government, and research.\n",
        "#2What are the two main types of statistics\n",
        "Ans - The two main types of statistics are:\n",
        "1. Descriptive Statistics\n",
        "2. Inferential Statistics\n",
        "#3 What are descriptive statistics\n",
        "Ans - Descriptive statistics summarize and describe the main features of a dataset through measures such as mean, median, mode, variance, and standard deviation.\n",
        "#4 What is inferential statistics\n",
        "Ans - Inferential statistics involve making predictions or inferences about a population based on a sample of data.\n",
        "#5 What is sampling in statistics\n",
        "Ans - Sampling is the process of selecting a subset (sample) from a larger population to estimate characteristics of the whole population.\n",
        "#6 What are the different types of sampling methods\n",
        "Ans - Types of sampling methods include:\n",
        "1. Simple Random Sampling\n",
        "2. Stratified Sampling\n",
        "3. Systematic Sampling\n",
        "4. Cluster Sampling\n",
        "5. Convenience Sampling\n",
        "# 7 What is the difference between random and non-random sampling\n",
        "Ans - Random sampling gives every member of the population an equal chance of selection, reducing bias. Non-random sampling does not, which can introduce bias.\n",
        "#8 Define and give examples of qualitative and quantitative data\n",
        "Qualitative data refers to non-numerical information (e.g., colors, names, labels).\n",
        "Quantitative data refers to numerical information (e.g., height, weight, age).\n",
        "#9 What are the different types of data in statistics\n",
        "Ans Types of data include:\n",
        "1. Qualitative (Categorical)\n",
        "2. Quantitative (Numerical)\n",
        "   - Discrete\n",
        "   - Continuous\n",
        "#10 Explain nominal, ordinal, interval, and ratio levels of measurement\n",
        "Ans - Nominal: Categories without order (e.g., gender).\n",
        "Ordinal: Categories with a specific order (e.g., rankings).\n",
        "Interval: Ordered, equal intervals, no true zero (e.g., temperature in Celsius).\n",
        "Ratio: Ordered, equal intervals, with a true zero (e.g., weight).\n",
        "#11 What is the measure of central tendency\n",
        "Ans - Measures of central tendency describe the center point of a dataset. The main measures are mean, median, and mode.\n",
        "#12 Define mean, median, and mode\n",
        "Ans - Mean: The average of all data points.\n",
        "Median: The middle value in an ordered dataset.\n",
        "Mode: The most frequent value in the dataset.\n",
        "#13 What is the significance of the measure of central tendency\n",
        "Ans - It helps summarize a large dataset with a single representative value, making it easier to understand and compare.\n",
        "#14 What is variance, and how is it calculated\n",
        "Ans - Variance measures the average squared deviation from the mean. It is calculated as:\n",
        "Variance = Σ(x - mean)² / N (for population) or / (n-1) for sample.\n",
        "#15 What is standard deviation, and why is it important\n",
        "Ans - Standard deviation is the square root of the variance. It shows the spread or dispersion of a dataset.\n",
        "#16 Define and explain the term range in statistics\n",
        "Ans - Range is the difference between the highest and lowest values in a dataset. It measures overall spread.\n",
        "#17 What is the difference between variance and standard deviation\n",
        "Ans - Variance is the average of squared deviations, while standard deviation is its square root. Both measure spread, but standard deviation is in the same unit as the data.\n",
        "#18 What is skewness in a dataset\n",
        "Ans - Skewness measures the asymmetry of a data distribution. A skewed distribution has a longer tail on one side.\n",
        "#19 What does it mean if a dataset is positively or negatively skewed\n",
        "Ans - Positive skew: tail on the right, most data on the left.\n",
        "Negative skew: tail on the left, most data on the right.\n",
        "#20 Define and explain kurtosis\n",
        "Ans - Kurtosis measures the 'tailedness' of a distribution. High kurtosis means heavy tails; low kurtosis means light tails.\n",
        "#21 What is the purpose of covariance\n",
        "Ans - Covariance measures the directional relationship between two variables. Positive covariance indicates they increase together.\n",
        "#22 What does correlation measure in statistics\n",
        "Ans - Correlation measures the strength and direction of the linear relationship between two variables.\n",
        "#23 What is the difference between covariance and correlation\n",
        "Ans - Covariance indicates direction, while correlation also standardizes the relationship between -1 and 1 for better comparison.\n",
        "#24 What are some real-world applications of statistics?\n",
        "Ans - Statistics are used in many fields:\n",
        "- Healthcare (clinical trials)\n",
        "- Business (market analysis)\n",
        "- Government (census)\n",
        "- Sports (performance analysis)\n",
        "- Education (test scores analysis)\n"
      ],
      "metadata": {
        "id": "dDGcN06nB89o"
      }
    },
    {
      "cell_type": "code",
      "source": [
        "# 1 How do you calculate the mean, median, and mode of a dataset.\n",
        "\n",
        "import pandas as pd\n",
        "\n",
        "def calculate_mean_median_mode(data):\n",
        "    \"\"\"Calculates the mean, median, and mode of a dataset.\n",
        "\n",
        "    Args:\n",
        "    data: A list or pandas Series of numerical data.\n",
        "\n",
        "    Returns:\n",
        "    A dictionary containing the mean, median, and mode.\n",
        "    Returns an empty dictionary if the input data is invalid.\n",
        "    \"\"\"\n",
        "\n",
        "    try:\n",
        "        # Convert to pandas Series for easier calculations\n",
        "        data_series = pd.Series(data)\n",
        "\n",
        "        #Handle cases where the input data is not numerical\n",
        "        if not pd.api.types.is_numeric_dtype(data_series):\n",
        "          print(\"Input data is not numerical. Cannot calculate mean, median, and mode.\")\n",
        "          return {}\n",
        "\n",
        "        mean = data_series.mean()\n",
        "        median = data_series.median()\n",
        "        mode = data_series.mode()  # Returns a Series; take the first element if it exists.\n",
        "        mode = mode.iloc[0] if not mode.empty else \"No unique mode\"\n",
        "        return {\"mean\": mean, \"median\": median, \"mode\": mode}\n",
        "\n",
        "    except (ValueError, TypeError):\n",
        "        print(\"Invalid input data. Please provide a numerical list or pandas series.\")\n",
        "        return {}\n",
        "\n",
        "\n",
        "# Example usage\n",
        "data = [1, 2, 3, 4, 5, 5, 6, 7, 8, 9, 10]\n",
        "results = calculate_mean_median_mode(data)\n",
        "print(results)\n",
        "\n",
        "# Example with non-numerical data\n",
        "data_non_numerical = [\"a\", \"b\", \"c\", \"a\", \"d\"]\n",
        "results = calculate_mean_median_mode(data_non_numerical)\n",
        "print(results)\n",
        "\n",
        "# Example with an empty list\n",
        "data_empty = []\n",
        "results = calculate_mean_median_mode(data_empty)\n",
        "results"
      ],
      "metadata": {
        "colab": {
          "base_uri": "https://localhost:8080/"
        },
        "id": "Izj20vxpCp1n",
        "outputId": "4d8cc048-c12b-42d2-fcf4-62f69f713321"
      },
      "execution_count": 1,
      "outputs": [
        {
          "output_type": "stream",
          "name": "stderr",
          "text": [
            "/usr/local/lib/python3.11/dist-packages/IPython/core/inputtransformer2.py:478: UserWarning: `make_tokens_by_line` received a list of lines which do not have lineending markers ('\\n', '\\r', '\\r\\n', '\\x0b', '\\x0c'), behavior will be unspecified\n",
            "  warnings.warn(\"`make_tokens_by_line` received a list of lines which do not have lineending markers ('\\\\n', '\\\\r', '\\\\r\\\\n', '\\\\x0b', '\\\\x0c'), behavior will be unspecified\")\n"
          ]
        },
        {
          "output_type": "stream",
          "name": "stdout",
          "text": [
            "{'mean': np.float64(5.454545454545454), 'median': 5.0, 'mode': np.int64(5)}\n",
            "Input data is not numerical. Cannot calculate mean, median, and mode.\n",
            "{}\n",
            "Input data is not numerical. Cannot calculate mean, median, and mode.\n"
          ]
        },
        {
          "output_type": "execute_result",
          "data": {
            "text/plain": [
              "{}"
            ]
          },
          "metadata": {},
          "execution_count": 1
        }
      ]
    },
    {
      "cell_type": "code",
      "source": [
        "# 2 Write a Python program to compute the variance and standard deviation of a dataset\n",
        "\n",
        "import pandas as pd\n",
        "import numpy as np\n",
        "\n",
        "def calculate_variance_std(data):\n",
        "    \"\"\"Calculates the variance and standard deviation of a dataset.\n",
        "\n",
        "    Args:\n",
        "        data: A list or pandas Series of numerical data.\n",
        "\n",
        "    Returns:\n",
        "        A dictionary containing the variance and standard deviation.\n",
        "        Returns an empty dictionary if the input data is invalid.\n",
        "    \"\"\"\n",
        "    try:\n",
        "        # Convert to pandas Series for easier calculations\n",
        "        data_series = pd.Series(data)\n",
        "\n",
        "        # Handle cases where the input data is not numerical\n",
        "        if not pd.api.types.is_numeric_dtype(data_series):\n",
        "            print(\"Input data is not numerical. Cannot calculate variance and standard deviation.\")\n",
        "            return {}\n",
        "\n",
        "        variance = data_series.var()\n",
        "        std_dev = data_series.std()\n",
        "        return {\"variance\": variance, \"standard_deviation\": std_dev}\n",
        "\n",
        "    except (ValueError, TypeError):\n",
        "        print(\"Invalid input data. Please provide a numerical list or pandas series.\")\n",
        "        return {}\n",
        "\n",
        "# Example usage\n",
        "data = [1, 2, 3, 4, 5, 5, 6, 7, 8, 9, 10]\n",
        "results = calculate_variance_std(data)\n",
        "print(results)\n",
        "\n",
        "# Example usage with an empty list\n",
        "data = []\n",
        "results = calculate_variance_std(data)\n",
        "print(results)\n",
        "\n",
        "# Example with non-numerical data\n",
        "data_non_numerical = [\"a\", \"b\", \"c\", \"a\", \"d\"]\n",
        "results = calculate_variance_std(data_non_numerical)\n",
        "results\n"
      ],
      "metadata": {
        "colab": {
          "base_uri": "https://localhost:8080/"
        },
        "id": "lYUVEaNiDIJv",
        "outputId": "105d11f8-d10a-406d-d91f-f2d4f48a2605"
      },
      "execution_count": 2,
      "outputs": [
        {
          "output_type": "stream",
          "name": "stdout",
          "text": [
            "{'variance': 8.272727272727273, 'standard_deviation': 2.8762349126466136}\n",
            "Input data is not numerical. Cannot calculate variance and standard deviation.\n",
            "{}\n",
            "Input data is not numerical. Cannot calculate variance and standard deviation.\n"
          ]
        },
        {
          "output_type": "execute_result",
          "data": {
            "text/plain": [
              "{}"
            ]
          },
          "metadata": {},
          "execution_count": 2
        }
      ]
    },
    {
      "cell_type": "code",
      "source": [
        "# 3  Create a dataset and classify it into nominal, ordinal, interval, and ratio types.\n",
        "\n",
        "import pandas as pd\n",
        "\n",
        "data = {'Name': ['Alice', 'Bob', 'Charlie', 'David', 'Eve'],\n",
        "        'Age': [25, 30, 22, 28, 24],\n",
        "        'Gender': ['Female', 'Male', 'Male', 'Male', 'Female'],\n",
        "        'Education Level': ['Bachelor', 'Master', 'Bachelor', 'PhD', 'Bachelor'],\n",
        "        'Salary': [50000, 60000, 45000, 80000, 55000],\n",
        "        'Customer Satisfaction': [4, 5, 3, 5, 4]}\n",
        "\n",
        "df = pd.DataFrame(data)\n",
        "\n",
        "print(\"Dataset:\\n\", df)\n",
        "\n",
        "print(\"\\nData Types:\")\n",
        "print(df.dtypes)\n",
        "\n",
        "print(\"\\nClassification:\")\n",
        "\n",
        "# Nominal Data: Gender\n",
        "print(\"\\nNominal: Gender\")\n",
        "print(df['Gender'].unique())\n",
        "\n",
        "# Ordinal Data: Education Level\n",
        "print(\"\\nOrdinal: Education Level\")\n",
        "print(df['Education Level'].unique())\n",
        "print(\"Order: Bachelor < Master < PhD\") # Define the order\n",
        "\n",
        "# Interval Data:  Customer Satisfaction (assuming a scale of 1-5)\n",
        "print(\"\\nInterval: Customer Satisfaction (assuming scale 1-5 where difference between values is consistent)\")\n",
        "print(df['Customer Satisfaction'].unique())\n",
        "\n",
        "# Ratio Data: Age, Salary\n",
        "print(\"\\nRatio: Age, Salary\")\n",
        "print(\"Age:\", df['Age'].unique())\n",
        "print(\"Salary:\", df['Salary'].unique())\n"
      ],
      "metadata": {
        "colab": {
          "base_uri": "https://localhost:8080/"
        },
        "id": "6jTna2VYDYFH",
        "outputId": "24c8ac4b-cd13-4208-c5a2-47ced2a733c5"
      },
      "execution_count": 3,
      "outputs": [
        {
          "output_type": "stream",
          "name": "stdout",
          "text": [
            "Dataset:\n",
            "       Name  Age  Gender Education Level  Salary  Customer Satisfaction\n",
            "0    Alice   25  Female        Bachelor   50000                      4\n",
            "1      Bob   30    Male          Master   60000                      5\n",
            "2  Charlie   22    Male        Bachelor   45000                      3\n",
            "3    David   28    Male             PhD   80000                      5\n",
            "4      Eve   24  Female        Bachelor   55000                      4\n",
            "\n",
            "Data Types:\n",
            "Name                     object\n",
            "Age                       int64\n",
            "Gender                   object\n",
            "Education Level          object\n",
            "Salary                    int64\n",
            "Customer Satisfaction     int64\n",
            "dtype: object\n",
            "\n",
            "Classification:\n",
            "\n",
            "Nominal: Gender\n",
            "['Female' 'Male']\n",
            "\n",
            "Ordinal: Education Level\n",
            "['Bachelor' 'Master' 'PhD']\n",
            "Order: Bachelor < Master < PhD\n",
            "\n",
            "Interval: Customer Satisfaction (assuming scale 1-5 where difference between values is consistent)\n",
            "[4 5 3]\n",
            "\n",
            "Ratio: Age, Salary\n",
            "Age: [25 30 22 28 24]\n",
            "Salary: [50000 60000 45000 80000 55000]\n"
          ]
        }
      ]
    },
    {
      "cell_type": "code",
      "source": [
        "#4 Implement sampling techniques like random sampling and stratified sampling.\n",
        "\n",
        "import pandas as pd\n",
        "import numpy as np\n",
        "\n",
        "def random_sampling(data, sample_size):\n",
        "  \"\"\"\n",
        "  Performs random sampling on a dataset.\n",
        "\n",
        "  Args:\n",
        "    data: A pandas DataFrame.\n",
        "    sample_size: The desired sample size.\n",
        "\n",
        "  Returns:\n",
        "    A pandas DataFrame representing the random sample.\n",
        "  \"\"\"\n",
        "  return data.sample(n=sample_size, random_state=42)  # random_state for reproducibility\n",
        "\n",
        "\n",
        "def stratified_sampling(data, strata_column, sample_size_per_strata):\n",
        "  \"\"\"\n",
        "  Performs stratified sampling on a dataset.\n",
        "\n",
        "  Args:\n",
        "    data: A pandas DataFrame.\n",
        "    strata_column: The name of the column to stratify by.\n",
        "    sample_size_per_strata: The desired sample size for each stratum.\n",
        "                            Can be an integer for equal sample size in each stratum\n",
        "                            or a dictionary mapping strata values to sample sizes.\n",
        "  Returns:\n",
        "    A pandas DataFrame representing the stratified sample.\n",
        "  \"\"\"\n",
        "\n",
        "  if isinstance(sample_size_per_strata, int):\n",
        "      sample_size_per_strata = {strata: sample_size_per_strata for strata in data[strata_column].unique()}\n",
        "\n",
        "\n",
        "  stratified_samples = []\n",
        "  for strata, size in sample_size_per_strata.items():\n",
        "    strata_data = data[data[strata_column] == strata]\n",
        "    sample = strata_data.sample(n=min(size, len(strata_data)), random_state=42) #handle cases where sample size is larger than strata size.\n",
        "    stratified_samples.append(sample)\n",
        "\n",
        "  return pd.concat(stratified_samples)\n",
        "\n",
        "\n",
        "# Example Usage (assuming 'df' is your DataFrame from the previous code)\n",
        "\n",
        "# Random Sampling: Get a sample of 5 rows\n",
        "random_sample = random_sampling(df, sample_size=5)\n",
        "print(\"Random Sample:\\n\", random_sample)\n",
        "\n",
        "\n",
        "# Stratified Sampling: Sample 2 from each gender\n",
        "stratified_sample = stratified_sampling(df, 'Gender', sample_size_per_strata={'Female': 2, 'Male': 2})\n",
        "\n",
        "print(\"\\nStratified Sample:\\n\", stratified_sample)\n",
        "\n",
        "# Example with an integer for size per stratum\n",
        "stratified_sample_int = stratified_sampling(df, 'Education Level', sample_size_per_strata=1)\n",
        "print(\"\\nStratified sample (int):\\n\", stratified_sample_int)"
      ],
      "metadata": {
        "colab": {
          "base_uri": "https://localhost:8080/"
        },
        "id": "fOBQAzAjDrE3",
        "outputId": "38150495-a046-41f6-9360-5d1a65139615"
      },
      "execution_count": 5,
      "outputs": [
        {
          "output_type": "stream",
          "name": "stdout",
          "text": [
            "Random Sample:\n",
            "       Name  Age  Gender Education Level  Salary  Customer Satisfaction\n",
            "1      Bob   30    Male          Master   60000                      5\n",
            "4      Eve   24  Female        Bachelor   55000                      4\n",
            "2  Charlie   22    Male        Bachelor   45000                      3\n",
            "0    Alice   25  Female        Bachelor   50000                      4\n",
            "3    David   28    Male             PhD   80000                      5\n",
            "\n",
            "Stratified Sample:\n",
            "       Name  Age  Gender Education Level  Salary  Customer Satisfaction\n",
            "4      Eve   24  Female        Bachelor   55000                      4\n",
            "0    Alice   25  Female        Bachelor   50000                      4\n",
            "1      Bob   30    Male          Master   60000                      5\n",
            "2  Charlie   22    Male        Bachelor   45000                      3\n",
            "\n",
            "Stratified sample (int):\n",
            "     Name  Age  Gender Education Level  Salary  Customer Satisfaction\n",
            "0  Alice   25  Female        Bachelor   50000                      4\n",
            "1    Bob   30    Male          Master   60000                      5\n",
            "3  David   28    Male             PhD   80000                      5\n"
          ]
        }
      ]
    },
    {
      "cell_type": "code",
      "source": [
        "#5 Write a Python function to calculate the range of a dataset.\n",
        "\n",
        "def calculate_range(data):\n",
        "    \"\"\"\n",
        "    Calculate the range of a dataset.\n",
        "\n",
        "    Parameters:\n",
        "    data (list or iterable): A list of numerical values.\n",
        "\n",
        "    Returns:\n",
        "    float: The range of the dataset (max - min).\n",
        "    \"\"\"\n",
        "    if not data:\n",
        "        raise ValueError(\"Dataset cannot be empty.\")\n",
        "\n",
        "    return max(data) - min(data)\n",
        "\n",
        "# Example usage:\n",
        "sample_data = [12, 7, 3, 19, 8]\n",
        "print(\"Range:\", calculate_range(sample_data))"
      ],
      "metadata": {
        "colab": {
          "base_uri": "https://localhost:8080/"
        },
        "id": "UF6JzGpmD-SQ",
        "outputId": "b2360356-7f70-4260-c50c-a8ec9392bfbd"
      },
      "execution_count": 9,
      "outputs": [
        {
          "output_type": "stream",
          "name": "stdout",
          "text": [
            "Range: 16\n"
          ]
        }
      ]
    },
    {
      "cell_type": "code",
      "source": [
        "#6 Create a dataset and plot its histogram to visualize skewness\n",
        "\n",
        "import matplotlib.pyplot as plt\n",
        "import numpy as np\n",
        "import pandas as pd\n",
        "\n",
        "# Create a skewed dataset (example: right-skewed)\n",
        "data = np.concatenate([np.random.normal(0, 1, 1000), np.random.normal(10, 2, 100)])\n",
        "\n",
        "# Create a Pandas Series for easier plotting\n",
        "data_series = pd.Series(data)\n",
        "\n",
        "# Plot the histogram\n",
        "plt.figure(figsize=(8, 6))  # Adjust figure size for better visualization\n",
        "plt.hist(data_series, bins=30, edgecolor='black')  # Adjust the number of bins as needed\n",
        "plt.title('Histogram of Skewed Dataset')\n",
        "plt.xlabel('Value')\n",
        "plt.ylabel('Frequency')\n",
        "plt.grid(True, alpha=0.5)  # Add a grid for better readability\n",
        "plt.show()"
      ],
      "metadata": {
        "colab": {
          "base_uri": "https://localhost:8080/",
          "height": 564
        },
        "id": "J8wm7gUKElR4",
        "outputId": "3512e2cd-5ab1-491f-c947-8e15297346f7"
      },
      "execution_count": 10,
      "outputs": [
        {
          "output_type": "display_data",
          "data": {
            "text/plain": [
              "<Figure size 800x600 with 1 Axes>"
            ],
            "image/png": "[encoded data removed]"
          },
          "metadata": {}
        }
      ]
    },
    {
      "cell_type": "code",
      "source": [
        "#7 Calculate skewness and kurtosis of a dataset using Python libraries\n",
        "\n",
        "import pandas as pd\n",
        "import numpy as np\n",
        "from scipy.stats import skew, kurtosis\n",
        "\n",
        "def calculate_skewness_kurtosis(data):\n",
        "    \"\"\"\n",
        "    Calculates the skewness and kurtosis of a dataset.\n",
        "\n",
        "    Args:\n",
        "        data: A list or numpy array of numerical data.\n",
        "\n",
        "    Returns:\n",
        "        A dictionary containing the skewness and kurtosis.\n",
        "        Returns an empty dictionary if the input data is invalid or empty.\n",
        "    \"\"\"\n",
        "    try:\n",
        "        if not data:\n",
        "            print(\"Input data is empty. Cannot calculate skewness and kurtosis.\")\n",
        "            return {}\n",
        "\n",
        "        data_series = pd.Series(data)  # Convert to Series for easier calculations\n",
        "\n",
        "        if not pd.api.types.is_numeric_dtype(data_series):\n",
        "            print(\"Input data is not numerical. Cannot calculate skewness and kurtosis.\")\n",
        "            return {}\n",
        "\n",
        "        skewness = skew(data_series)\n",
        "        kurt = kurtosis(data_series)\n",
        "\n",
        "        return {\"skewness\": skewness, \"kurtosis\": kurt}\n",
        "\n",
        "    except (ValueError, TypeError):\n",
        "        print(\"Invalid input data. Please provide a numerical list or numpy array.\")\n",
        "        return {}\n",
        "\n",
        "\n",
        "# Example Usage\n",
        "data = [1, 2, 3, 4, 5, 5, 6, 7, 8, 9, 10, 100] # Example dataset with an outlier\n",
        "results = calculate_skewness_kurtosis(data)\n",
        "print(results)\n",
        "\n",
        "data2 = np.random.normal(0, 1, 100) # Example with normally distributed data\n",
        "results2 = calculate_skewness_kurtosis(data2)\n",
        "print(results2)\n",
        "\n",
        "data3 = [] # Example with empty list\n",
        "results3 = calculate_skewness_kurtosis(data3)\n",
        "print(results3)\n",
        "\n",
        "data4 = ['a','b','c'] # Example with non-numeric data\n",
        "results4 = calculate_skewness_kurtosis(data4)\n",
        "results4\n"
      ],
      "metadata": {
        "colab": {
          "base_uri": "https://localhost:8080/"
        },
        "id": "F2nxaN8CEzlf",
        "outputId": "b6183ba4-c228-4427-95dd-cb64859d2255"
      },
      "execution_count": 11,
      "outputs": [
        {
          "output_type": "stream",
          "name": "stdout",
          "text": [
            "{'skewness': np.float64(2.9610770086231084), 'kurtosis': np.float64(6.895742866230604)}\n",
            "Invalid input data. Please provide a numerical list or numpy array.\n",
            "{}\n",
            "Input data is empty. Cannot calculate skewness and kurtosis.\n",
            "{}\n",
            "Input data is not numerical. Cannot calculate skewness and kurtosis.\n"
          ]
        },
        {
          "output_type": "execute_result",
          "data": {
            "text/plain": [
              "{}"
            ]
          },
          "metadata": {},
          "execution_count": 11
        }
      ]
    },
    {
      "cell_type": "code",
      "source": [
        "#8 Generate a dataset and demonstrate positive and negative skewness\n",
        "\n",
        "import pandas as pd\n",
        "import numpy as np\n",
        "import matplotlib.pyplot as plt\n",
        "from scipy.stats import skew, kurtosis\n",
        "\n",
        "# Generate a positively skewed dataset\n",
        "positive_skew = np.concatenate([np.random.normal(0, 1, 1000), np.random.normal(10, 2, 100)])\n",
        "\n",
        "# Generate a negatively skewed dataset\n",
        "negative_skew = np.concatenate([np.random.normal(0, 1, 1000), np.random.normal(-10, 2, 100)])\n",
        "\n",
        "\n",
        "# Create subplots\n",
        "fig, axes = plt.subplots(1, 2, figsize=(12, 5))\n",
        "\n",
        "# Plot positively skewed data\n",
        "axes[0].hist(positive_skew, bins=30, edgecolor='black', alpha=0.7)\n",
        "axes[0].set_title('Positively Skewed Distribution')\n",
        "axes[0].set_xlabel('Value')\n",
        "axes[0].set_ylabel('Frequency')\n",
        "\n",
        "\n",
        "# Calculate and display skewness\n",
        "skewness_pos = skew(positive_skew)\n",
        "axes[0].text(0.05, 0.95, f'Skewness: {skewness_pos:.2f}', transform=axes[0].transAxes, fontsize=10, verticalalignment='top')\n",
        "\n",
        "# Plot negatively skewed data\n",
        "axes[1].hist(negative_skew, bins=30, edgecolor='black', alpha=0.7)\n",
        "axes[1].set_title('Negatively Skewed Distribution')\n",
        "axes[1].set_xlabel('Value')\n",
        "axes[1].set_ylabel('Frequency')\n",
        "\n",
        "# Calculate and display skewness\n",
        "skewness_neg = skew(negative_skew)\n",
        "axes[1].text(0.05, 0.95, f'Skewness: {skewness_neg:.2f}', transform=axes[1].transAxes, fontsize=10, verticalalignment='top')\n",
        "\n",
        "\n",
        "plt.tight_layout() # Adjusts subplot params for a tight layout\n",
        "plt.show()"
      ],
      "metadata": {
        "colab": {
          "base_uri": "https://localhost:8080/",
          "height": 507
        },
        "id": "E2QNAS1wE_iY",
        "outputId": "fe0c69a8-2f53-431b-e7b9-bc1c6dbb4e40"
      },
      "execution_count": 12,
      "outputs": [
        {
          "output_type": "display_data",
          "data": {
            "text/plain": [
              "<Figure size 1200x500 with 2 Axes>"
            ],
            "image/png": "[encoded data removed]"
          },
          "metadata": {}
        }
      ]
    },
    {
      "cell_type": "code",
      "source": [
        "#9 Write a Python script to calculate covariance between two datasets\n",
        "\n",
        "import pandas as pd\n",
        "\n",
        "def calculate_covariance(dataset1, dataset2):\n",
        "    \"\"\"\n",
        "    Calculates the covariance between two datasets.\n",
        "\n",
        "    Args:\n",
        "        dataset1: A list or pandas Series representing the first dataset.\n",
        "        dataset2: A list or pandas Series representing the second dataset.\n",
        "\n",
        "    Returns:\n",
        "        The covariance between the two datasets.\n",
        "        Returns an error message if the input data is invalid or if the datasets have different lengths.\n",
        "    \"\"\"\n",
        "    try:\n",
        "        # Convert to pandas Series for easier calculations and error handling\n",
        "        series1 = pd.Series(dataset1)\n",
        "        series2 = pd.Series(dataset2)\n",
        "\n",
        "        if len(series1) != len(series2):\n",
        "            return \"Error: Datasets must have the same length.\"\n",
        "\n",
        "        if not pd.api.types.is_numeric_dtype(series1) or not pd.api.types.is_numeric_dtype(series2):\n",
        "          return \"Error: Datasets must contain numerical values.\"\n",
        "\n",
        "        return series1.cov(series2)\n",
        "\n",
        "    except (ValueError, TypeError):\n",
        "        return \"Error: Invalid input data.\"\n",
        "\n",
        "# Example Usage\n",
        "dataset1 = [1, 2, 3, 4, 5]\n",
        "dataset2 = [2, 4, 5, 4, 5]\n",
        "covariance = calculate_covariance(dataset1, dataset2)\n",
        "print(f\"Covariance: {covariance}\")\n",
        "\n",
        "dataset3 = [1,2,3]\n",
        "dataset4 = [4,5,6,7]\n",
        "covariance = calculate_covariance(dataset3, dataset4)\n",
        "print(f\"Covariance: {covariance}\")\n",
        "\n",
        "dataset5 = [1,2,'a']\n",
        "dataset6 = [4,5,6]\n",
        "covariance = calculate_covariance(dataset5, dataset6)\n",
        "print(f\"Covariance: {covariance}\")"
      ],
      "metadata": {
        "colab": {
          "base_uri": "https://localhost:8080/"
        },
        "id": "BbdrBxYEFqOw",
        "outputId": "f109b74e-5942-4a81-94d3-aab07367122d"
      },
      "execution_count": 13,
      "outputs": [
        {
          "output_type": "stream",
          "name": "stdout",
          "text": [
            "Covariance: 1.5\n",
            "Covariance: Error: Datasets must have the same length.\n",
            "Covariance: Error: Datasets must contain numerical values.\n"
          ]
        }
      ]
    },
    {
      "cell_type": "code",
      "source": [
        "#10 Write a Python script to calculate the correlation coefficient between two datasets\n",
        "\n",
        "import pandas as pd\n",
        "def calculate_correlation(dataset1, dataset2):\n",
        "    \"\"\"\n",
        "    Calculates the Pearson correlation coefficient between two datasets.\n",
        "\n",
        "    Args:\n",
        "        dataset1: A list or pandas Series representing the first dataset.\n",
        "        dataset2: A list or pandas Series representing the second dataset.\n",
        "\n",
        "    Returns:\n",
        "        The Pearson correlation coefficient between the two datasets.\n",
        "        Returns an error message if the input data is invalid or if the datasets have different lengths.\n",
        "    \"\"\"\n",
        "    try:\n",
        "        # Convert to pandas Series for easier calculations and error handling\n",
        "        series1 = pd.Series(dataset1)\n",
        "        series2 = pd.Series(dataset2)\n",
        "\n",
        "        if len(series1) != len(series2):\n",
        "            return \"Error: Datasets must have the same length.\"\n",
        "\n",
        "        if not pd.api.types.is_numeric_dtype(series1) or not pd.api.types.is_numeric_dtype(series2):\n",
        "            return \"Error: Datasets must contain numerical values.\"\n",
        "\n",
        "        return series1.corr(series2)\n",
        "\n",
        "    except (ValueError, TypeError):\n",
        "        return \"Error: Invalid input data.\"\n",
        "\n",
        "# Example Usage\n",
        "dataset1 = [1, 2, 3, 4, 5]\n",
        "dataset2 = [2, 4, 5, 4, 5]\n",
        "correlation = calculate_correlation(dataset1, dataset2)\n",
        "print(f\"Correlation Coefficient: {correlation}\")"
      ],
      "metadata": {
        "colab": {
          "base_uri": "https://localhost:8080/"
        },
        "id": "yQQqG3kRGAGX",
        "outputId": "a9540dc3-9f34-42d4-d76f-ba126edf40ff"
      },
      "execution_count": 14,
      "outputs": [
        {
          "output_type": "stream",
          "name": "stdout",
          "text": [
            "Correlation Coefficient: 0.7745966692414834\n"
          ]
        }
      ]
    },
    {
      "cell_type": "code",
      "source": [
        "#11 Create a scatter plot to visualize the relationship between two variables\n",
        "\n",
        "import matplotlib.pyplot as plt\n",
        "\n",
        "# Sample data (replace with your actual data)\n",
        "x = [1, 2, 3, 4, 5, 6, 7, 8, 9, 10]\n",
        "y = [2, 4, 1, 5, 2, 6, 3, 7, 4, 9]\n",
        "\n",
        "# Create the scatter plot\n",
        "plt.figure(figsize=(8, 6))  # Adjust figure size as needed\n",
        "plt.scatter(x, y, marker='o', color='blue', label='Data Points')  # Customize marker, color, etc.\n",
        "\n",
        "# Add labels and title\n",
        "plt.xlabel('X-axis Variable')\n",
        "plt.ylabel('Y-axis Variable')\n",
        "plt.title('Scatter Plot of Two Variables')\n",
        "\n",
        "# Add a legend\n",
        "plt.legend()\n",
        "\n",
        "# Add a grid (optional)\n",
        "plt.grid(True, linestyle='--', alpha=0.7)\n",
        "\n",
        "# Show the plot\n",
        "plt.show()"
      ],
      "metadata": {
        "colab": {
          "base_uri": "https://localhost:8080/",
          "height": 564
        },
        "id": "D6jHLF0iHMe4",
        "outputId": "425b3ebc-4f75-40f1-b56f-5f0d7b967efe"
      },
      "execution_count": 15,
      "outputs": [
        {
          "output_type": "display_data",
          "data": {
            "text/plain": [
              "<Figure size 800x600 with 1 Axes>"
            ],
            "image/png": "[encoded data removed]"
          },
          "metadata": {}
        }
      ]
    },
    {
      "cell_type": "code",
      "source": [
        "#12 Implement and compare simple random sampling and systematic sampling\n",
        "\n",
        "import pandas as pd\n",
        "import numpy as np\n",
        "import random\n",
        "\n",
        "def simple_random_sampling(data, sample_size):\n",
        "    \"\"\"\n",
        "    Performs simple random sampling on a dataset.\n",
        "\n",
        "    Args:\n",
        "        data: A pandas DataFrame.\n",
        "        sample_size: The desired sample size.\n",
        "\n",
        "    Returns:\n",
        "        A pandas DataFrame representing the random sample.\n",
        "    \"\"\"\n",
        "    return data.sample(n=sample_size, random_state=42)  # random_state for reproducibility\n",
        "\n",
        "\n",
        "def systematic_sampling(data, sample_size):\n",
        "    \"\"\"\n",
        "    Performs systematic sampling on a dataset.\n",
        "\n",
        "    Args:\n",
        "        data: A pandas DataFrame.\n",
        "        sample_size: The desired sample size.\n",
        "\n",
        "    Returns:\n",
        "        A pandas DataFrame representing the systematic sample.\n",
        "    \"\"\"\n",
        "    n = len(data)\n",
        "    k = n // sample_size  # Sampling interval\n",
        "    start = random.randint(0, k - 1)  # Random starting point\n",
        "    indices = [start + i * k for i in range(sample_size)]\n",
        "    return data.iloc[indices]\n",
        "\n",
        "# Example usage:\n",
        "# Create a sample dataset\n",
        "data = pd.DataFrame({'value': np.random.rand(100)})\n",
        "\n",
        "# Sample sizes for comparison\n",
        "sample_sizes = [10, 20, 30]\n",
        "\n",
        "# Perform and compare simple random sampling and systematic sampling\n",
        "for sample_size in sample_sizes:\n",
        "    simple_random_sample = simple_random_sampling(data, sample_size)\n",
        "    systematic_sample = systematic_sampling(data, sample_size)\n",
        "\n",
        "    print(f\"\\nSample Size: {sample_size}\")\n",
        "    print(\"Simple Random Sample:\")\n",
        "    print(simple_random_sample)\n",
        "\n",
        "    print(\"\\nSystematic Sample:\")\n",
        "    print(systematic_sample)\n",
        "\n",
        "    # Add comparison metrics (e.g., mean, standard deviation) if needed\n",
        "    print(f\"\\nMean (Simple Random): {simple_random_sample['value'].mean()}\")\n",
        "    print(f\"Mean (Systematic): {systematic_sample['value'].mean()}\")"
      ],
      "metadata": {
        "colab": {
          "base_uri": "https://localhost:8080/"
        },
        "id": "IoHXM7rMHdKX",
        "outputId": "54cb2623-532a-4663-92bf-6dc4629237e3"
      },
      "execution_count": 16,
      "outputs": [
        {
          "output_type": "stream",
          "name": "stdout",
          "text": [
            "\n",
            "Sample Size: 10\n",
            "Simple Random Sample:\n",
            "       value\n",
            "83  0.562572\n",
            "53  0.790889\n",
            "70  0.843749\n",
            "45  0.957183\n",
            "44  0.730792\n",
            "39  0.593198\n",
            "22  0.057463\n",
            "80  0.330699\n",
            "10  0.328502\n",
            "0   0.166009\n",
            "\n",
            "Systematic Sample:\n",
            "       value\n",
            "1   0.291108\n",
            "11  0.114489\n",
            "21  0.643218\n",
            "31  0.243170\n",
            "41  0.738090\n",
            "51  0.547815\n",
            "61  0.027340\n",
            "71  0.741029\n",
            "81  0.645339\n",
            "91  0.819713\n",
            "\n",
            "Mean (Simple Random): 0.5361057506527184\n",
            "Mean (Systematic): 0.4811310829736005\n",
            "\n",
            "Sample Size: 20\n",
            "Simple Random Sample:\n",
            "       value\n",
            "83  0.562572\n",
            "53  0.790889\n",
            "70  0.843749\n",
            "45  0.957183\n",
            "44  0.730792\n",
            "39  0.593198\n",
            "22  0.057463\n",
            "80  0.330699\n",
            "10  0.328502\n",
            "0   0.166009\n",
            "18  0.102254\n",
            "30  0.498790\n",
            "73  0.333866\n",
            "33  0.453461\n",
            "90  0.474363\n",
            "4   0.190860\n",
            "76  0.116469\n",
            "77  0.943410\n",
            "12  0.629673\n",
            "31  0.243170\n",
            "\n",
            "Systematic Sample:\n",
            "       value\n",
            "0   0.166009\n",
            "5   0.134743\n",
            "10  0.328502\n",
            "15  0.191715\n",
            "20  0.919156\n",
            "25  0.843348\n",
            "30  0.498790\n",
            "35  0.031333\n",
            "40  0.416558\n",
            "45  0.957183\n",
            "50  0.810684\n",
            "55  0.562183\n",
            "60  0.472588\n",
            "65  0.466395\n",
            "70  0.843749\n",
            "75  0.033905\n",
            "80  0.330699\n",
            "85  0.989801\n",
            "90  0.474363\n",
            "95  0.758335\n",
            "\n",
            "Mean (Simple Random): 0.46736866813412414\n",
            "Mean (Systematic): 0.5115019305787496\n",
            "\n",
            "Sample Size: 30\n",
            "Simple Random Sample:\n",
            "       value\n",
            "83  0.562572\n",
            "53  0.790889\n",
            "70  0.843749\n",
            "45  0.957183\n",
            "44  0.730792\n",
            "39  0.593198\n",
            "22  0.057463\n",
            "80  0.330699\n",
            "10  0.328502\n",
            "0   0.166009\n",
            "18  0.102254\n",
            "30  0.498790\n",
            "73  0.333866\n",
            "33  0.453461\n",
            "90  0.474363\n",
            "4   0.190860\n",
            "76  0.116469\n",
            "77  0.943410\n",
            "12  0.629673\n",
            "31  0.243170\n",
            "55  0.562183\n",
            "88  0.890209\n",
            "26  0.814310\n",
            "42  0.835061\n",
            "69  0.811308\n",
            "15  0.191715\n",
            "40  0.416558\n",
            "96  0.474237\n",
            "9   0.504182\n",
            "72  0.048439\n",
            "\n",
            "Systematic Sample:\n",
            "       value\n",
            "2   0.066848\n",
            "5   0.134743\n",
            "8   0.347457\n",
            "11  0.114489\n",
            "14  0.567531\n",
            "17  0.132399\n",
            "20  0.919156\n",
            "23  0.441933\n",
            "26  0.814310\n",
            "29  0.930780\n",
            "32  0.874194\n",
            "35  0.031333\n",
            "38  0.561006\n",
            "41  0.738090\n",
            "44  0.730792\n",
            "47  0.763095\n",
            "50  0.810684\n",
            "53  0.790889\n",
            "56  0.837661\n",
            "59  0.651083\n",
            "62  0.015557\n",
            "65  0.466395\n",
            "68  0.225162\n",
            "71  0.741029\n",
            "74  0.272732\n",
            "77  0.943410\n",
            "80  0.330699\n",
            "83  0.562572\n",
            "86  0.883649\n",
            "89  0.230862\n",
            "\n",
            "Mean (Simple Random): 0.49651915671544467\n",
            "Mean (Systematic): 0.5310180405954014\n"
          ]
        }
      ]
    },
    {
      "cell_type": "code",
      "source": [
        "#13 Calculate the mean, median, and mode of grouped data\n",
        "\n",
        "import pandas as pd\n",
        "def calculate_grouped_stats(data, lower_bounds, upper_bounds, frequencies):\n",
        "    \"\"\"\n",
        "    Calculates the mean, median, and mode for grouped data.\n",
        "\n",
        "    Args:\n",
        "      data: A pandas DataFrame with columns 'lower_bound', 'upper_bound', and 'frequency'.\n",
        "      lower_bounds:  A list of lower bounds for the intervals\n",
        "      upper_bounds: A list of upper bounds for the intervals\n",
        "      frequencies: A list of frequencies for the intervals\n",
        "\n",
        "    Returns:\n",
        "      A dictionary containing the calculated mean, median, and mode.\n",
        "    \"\"\"\n",
        "\n",
        "    if len(lower_bounds) != len(upper_bounds) or len(lower_bounds) != len(frequencies):\n",
        "        raise ValueError(\"Lower bounds, upper bounds, and frequencies must have the same length.\")\n",
        "\n",
        "    # Create a DataFrame from the input data\n",
        "    data = pd.DataFrame({'lower_bound': lower_bounds, 'upper_bound': upper_bounds, 'frequency': frequencies})\n",
        "\n",
        "    # Calculate midpoints\n",
        "    data['midpoint'] = (data['lower_bound'] + data['upper_bound']) / 2\n",
        "\n",
        "    # Calculate the mean\n",
        "    total_frequency = data['frequency'].sum()\n",
        "    mean = (data['midpoint'] * data['frequency']).sum() / total_frequency\n",
        "\n",
        "    # Calculate the median (more complex for grouped data)\n",
        "    cumulative_frequency = data['frequency'].cumsum()\n",
        "    median_index = total_frequency // 2  # Integer division\n",
        "    median_lower_bound = data['lower_bound'][cumulative_frequency > median_index].iloc[0]\n",
        "    median_upper_bound = data['upper_bound'][cumulative_frequency > median_index].iloc[0]\n",
        "    median_frequency = data['frequency'][cumulative_frequency > median_index].iloc[0]\n",
        "    median_cumulative_freq_prev = cumulative_frequency[cumulative_frequency > median_index].iloc[0]-median_frequency\n",
        "    median = median_lower_bound + (((median_index + 0.5) - median_cumulative_freq_prev) / median_frequency) * (median_upper_bound - median_lower_bound)\n",
        "\n",
        "\n",
        "    # Calculate the mode (for grouped data, it's the midpoint of the interval with the highest frequency)\n",
        "    mode_index = data['frequency'].idxmax()\n",
        "    mode = data.loc[mode_index, 'midpoint']\n",
        "\n",
        "    return {'mean': mean, 'median': median, 'mode': mode}\n",
        "\n",
        "\n",
        "# Example usage (replace with your grouped data)\n",
        "lower_bounds = [10, 20, 30, 40, 50]\n",
        "upper_bounds = [19, 29, 39, 49, 59]\n",
        "frequencies = [5, 10, 15, 8, 2]\n",
        "\n",
        "stats = calculate_grouped_stats(None, lower_bounds, upper_bounds, frequencies)\n",
        "stats\n"
      ],
      "metadata": {
        "colab": {
          "base_uri": "https://localhost:8080/"
        },
        "id": "EBcjFdBUHuYQ",
        "outputId": "09a89fc2-504f-426a-af4b-7337326c86c3"
      },
      "execution_count": 17,
      "outputs": [
        {
          "output_type": "execute_result",
          "data": {
            "text/plain": [
              "{'mean': np.float64(32.5),\n",
              " 'median': np.float64(33.3),\n",
              " 'mode': np.float64(34.5)}"
            ]
          },
          "metadata": {},
          "execution_count": 17
        }
      ]
    },
    {
      "cell_type": "code",
      "source": [
        "#14 Simulate data using Python and calculate its central tendency and dispersion\n",
        "\n",
        "import pandas as pd\n",
        "import matplotlib.pyplot as plt\n",
        "import numpy as np\n",
        "# Assuming you want to simulate normally distributed data\n",
        "# Adjust parameters as needed\n",
        "\n",
        "num_samples = 1000\n",
        "mean = 50\n",
        "std_dev = 10\n",
        "\n",
        "# Simulate the data\n",
        "simulated_data = np.random.normal(loc=mean, scale=std_dev, size=num_samples)\n",
        "\n",
        "# Create a pandas Series from the simulated data\n",
        "data_series = pd.Series(simulated_data)\n",
        "\n",
        "# Calculate central tendency measures\n",
        "mean = data_series.mean()\n",
        "median = data_series.median()\n",
        "mode = data_series.mode()[0]  # Mode for continuous data is not well defined\n",
        "\n",
        "# Calculate dispersion measures\n",
        "variance = data_series.var()\n",
        "std_deviation = data_series.std()\n",
        "range_data = data_series.max() - data_series.min()\n",
        "\n",
        "print(\"Central Tendency:\")\n",
        "print(f\"Mean: {mean}\")\n",
        "print(f\"Median: {median}\")\n",
        "print(f\"Mode: {mode}\")\n",
        "\n",
        "print(\"\\nDispersion:\")\n",
        "print(f\"Variance: {variance}\")\n",
        "print(f\"Standard Deviation: {std_deviation}\")\n",
        "print(f\"Range: {range_data}\")\n",
        "\n",
        "# Optional: Visualize the data\n",
        "plt.figure(figsize=(8, 6))\n",
        "plt.hist(data_series, bins=30, edgecolor='black', alpha=0.7)\n",
        "plt.title('Histogram of Simulated Data')\n",
        "plt.xlabel('Value')\n",
        "plt.ylabel('Frequency')\n",
        "plt.show()\n"
      ],
      "metadata": {
        "colab": {
          "base_uri": "https://localhost:8080/",
          "height": 720
        },
        "id": "y5qp4vQZJDj3",
        "outputId": "08095726-26ec-4b8a-a505-058248c44d83"
      },
      "execution_count": 18,
      "outputs": [
        {
          "output_type": "stream",
          "name": "stdout",
          "text": [
            "Central Tendency:\n",
            "Mean: 50.16430626535586\n",
            "Median: 49.878450919080265\n",
            "Mode: 17.483574300026234\n",
            "\n",
            "Dispersion:\n",
            "Variance: 101.5611448882393\n",
            "Standard Deviation: 10.077754952777891\n",
            "Range: 65.26310882325785\n"
          ]
        },
        {
          "output_type": "display_data",
          "data": {
            "text/plain": [
              "<Figure size 800x600 with 1 Axes>"
            ],
            "image/png": "[encoded data removed]"
          },
          "metadata": {}
        }
      ]
    },
    {
      "cell_type": "code",
      "source": [
        "#15 Use NumPy or pandas to summarize a dataset’s descriptive statistics\n",
        "\n",
        "import pandas as pd\n",
        "\n",
        "# Assuming your data is in a CSV file named 'your_dataset.csv'\n",
        "# Replace 'your_dataset.csv' with the actual filename if different\n",
        "try:\n",
        "    df = pd.read_csv('your_dataset.csv')\n",
        "\n",
        "    # Display descriptive statistics\n",
        "    print(df.describe())\n",
        "\n",
        "except FileNotFoundError:\n",
        "    print(\"Error: 'your_dataset.csv' not found. Please make sure the file exists and the name is correct.\")\n",
        "except pd.errors.EmptyDataError:\n",
        "    print(\"Error: 'your_dataset.csv' is empty. Please provide a dataset with data.\")\n",
        "except pd.errors.ParserError:\n",
        "    print(\"Error: Could not parse 'your_dataset.csv'. Please ensure it's a valid CSV file.\")"
      ],
      "metadata": {
        "colab": {
          "base_uri": "https://localhost:8080/"
        },
        "id": "k0lenesCKVRv",
        "outputId": "2c993539-c2f3-4815-8dcb-4f8be7f19223"
      },
      "execution_count": 23,
      "outputs": [
        {
          "output_type": "stream",
          "name": "stdout",
          "text": [
            "Error: 'your_dataset.csv' not found. Please make sure the file exists and the name is correct.\n"
          ]
        }
      ]
    },
    {
      "cell_type": "code",
      "source": [
        "#16 Plot a boxplot to understand the spread and identify outliers\n",
        "\n",
        "import matplotlib.pyplot as plt\n",
        "\n",
        "# Sample data (replace with your actual data)\n",
        "data = [1, 2, 3, 4, 5, 6, 7, 8, 9, 10, 100]  # Example with an outlier\n",
        "\n",
        "plt.figure(figsize=(8, 6))\n",
        "plt.boxplot(data, vert=True, patch_artist=True, showfliers=True) #showfliers=True to visualize outliers\n",
        "plt.title(\"Boxplot of Data\")\n",
        "plt.ylabel(\"Values\")\n",
        "plt.show()\n"
      ],
      "metadata": {
        "colab": {
          "base_uri": "https://localhost:8080/",
          "height": 545
        },
        "id": "i0SDd6DgKdRv",
        "outputId": "dd6384c2-795e-414a-ed3a-f7a657364bfd"
      },
      "execution_count": 24,
      "outputs": [
        {
          "output_type": "display_data",
          "data": {
            "text/plain": [
              "<Figure size 800x600 with 1 Axes>"
            ],
            "image/png": "[encoded data removed]"
          },
          "metadata": {}
        }
      ]
    },
    {
      "cell_type": "code",
      "source": [
        "# 17 Calculate the interquartile range (IQR) of a dataset\n",
        "\n",
        "import pandas as pd\n",
        "import numpy as np\n",
        "def calculate_iqr(data):\n",
        "    \"\"\"\n",
        "    Calculates the interquartile range (IQR) of a dataset.\n",
        "\n",
        "    Args:\n",
        "        data: A list or numpy array of numerical data.\n",
        "\n",
        "    Returns:\n",
        "        The IQR of the dataset.\n",
        "        Returns an error message if the input data is invalid or empty.\n",
        "    \"\"\"\n",
        "    try:\n",
        "        if not data:\n",
        "            return \"Error: Input data is empty.\"\n",
        "\n",
        "        data_series = pd.Series(data)\n",
        "        if not pd.api.types.is_numeric_dtype(data_series):\n",
        "            return \"Error: Input data must be numeric.\"\n",
        "\n",
        "        q1 = np.percentile(data, 25)\n",
        "        q3 = np.percentile(data, 75)\n",
        "        iqr = q3 - q1\n",
        "        return iqr\n",
        "\n",
        "    except (ValueError, TypeError):\n",
        "        return \"Error: Invalid input data.\"\n",
        "\n",
        "# Example usage\n",
        "data = [1, 2, 3, 4, 5, 6, 7, 8, 9, 10]\n",
        "iqr = calculate_iqr(data)\n",
        "print(f\"IQR: {iqr}\")\n",
        "\n",
        "data2 = []\n",
        "iqr2 = calculate_iqr(data2)\n",
        "print(iqr2)\n",
        "\n",
        "data3 = [1,2,'a']\n",
        "iqr3 = calculate_iqr(data3)\n",
        "iqr3"
      ],
      "metadata": {
        "colab": {
          "base_uri": "https://localhost:8080/",
          "height": 70
        },
        "id": "Uqc4U7-VKnmH",
        "outputId": "249397f6-c0b4-480d-8c59-ef4cc0fe04be"
      },
      "execution_count": 25,
      "outputs": [
        {
          "output_type": "stream",
          "name": "stdout",
          "text": [
            "IQR: 4.5\n",
            "Error: Input data is empty.\n"
          ]
        },
        {
          "output_type": "execute_result",
          "data": {
            "text/plain": [
              "'Error: Input data must be numeric.'"
            ],
            "application/vnd.google.colaboratory.intrinsic+json": {
              "type": "string"
            }
          },
          "metadata": {},
          "execution_count": 25
        }
      ]
    },
    {
      "cell_type": "code",
      "source": [
        "#18 Implement Z-score normalization and explain its significance\n",
        "\n",
        "import numpy as np\n",
        "def zscore_normalize(data):\n",
        "    \"\"\"\n",
        "    Applies Z-score normalization to a dataset.\n",
        "\n",
        "    Args:\n",
        "        data: A list or numpy array of numerical data.\n",
        "\n",
        "    Returns:\n",
        "        A numpy array containing the Z-score normalized data.\n",
        "        Returns an empty array if the input data is invalid or empty.\n",
        "    \"\"\"\n",
        "    try:\n",
        "        if not data:\n",
        "            print(\"Input data is empty. Cannot normalize.\")\n",
        "            return np.array([])\n",
        "\n",
        "        data_array = np.array(data, dtype=np.float64)  # Convert to NumPy array for calculations\n",
        "\n",
        "        if not np.issubdtype(data_array.dtype, np.number):\n",
        "            print(\"Input data is not numerical. Cannot normalize.\")\n",
        "            return np.array([])\n",
        "\n",
        "        mean = np.mean(data_array)\n",
        "        std_dev = np.std(data_array)\n",
        "\n",
        "        # Handle the case where the standard deviation is zero to avoid division by zero\n",
        "        if std_dev == 0:\n",
        "          print(\"Standard deviation is zero. Cannot normalize.\")\n",
        "          return np.array([])\n",
        "\n",
        "        normalized_data = (data_array - mean) / std_dev\n",
        "        return normalized_data\n",
        "\n",
        "    except (ValueError, TypeError):\n",
        "        print(\"Invalid input data. Please provide a numerical list or numpy array.\")\n",
        "        return np.array([])\n",
        "\n",
        "\n",
        "# Example usage\n",
        "data = [1, 2, 3, 4, 5, 5, 6, 7, 8, 9, 10]\n",
        "normalized_data = zscore_normalize(data)\n",
        "print(f\"Original Data: {data}\")\n",
        "print(f\"Normalized Data (Z-score): {normalized_data}\")\n",
        "\n",
        "\n",
        "data2 = [] # Example with empty list\n",
        "normalized_data2 = zscore_normalize(data2)\n",
        "print(f\"Normalized Data (Z-score): {normalized_data2}\")\n",
        "\n",
        "data3 = [1,2,'a'] # Example with non-numerical data\n",
        "normalized_data3 = zscore_normalize(data3)\n",
        "print(f\"Normalized Data (Z-score): {normalized_data3}\")"
      ],
      "metadata": {
        "colab": {
          "base_uri": "https://localhost:8080/"
        },
        "id": "rL7vYDDEKz2P",
        "outputId": "d348aa5d-91ef-40c6-f0c7-c72538794db7"
      },
      "execution_count": 26,
      "outputs": [
        {
          "output_type": "stream",
          "name": "stdout",
          "text": [
            "Original Data: [1, 2, 3, 4, 5, 5, 6, 7, 8, 9, 10]\n",
            "Normalized Data (Z-score): [-1.62433418 -1.25968773 -0.89504128 -0.53039484 -0.16574839 -0.16574839\n",
            "  0.19889806  0.56354451  0.92819096  1.29283741  1.65748386]\n",
            "Input data is empty. Cannot normalize.\n",
            "Normalized Data (Z-score): []\n",
            "Invalid input data. Please provide a numerical list or numpy array.\n",
            "Normalized Data (Z-score): []\n"
          ]
        }
      ]
    },
    {
      "cell_type": "code",
      "source": [
        "#19  Compare two datasets using their standard deviations\n",
        "\n",
        "import numpy as np\n",
        "def compare_std_dev(dataset1, dataset2):\n",
        "    \"\"\"Compares the standard deviations of two datasets.\n",
        "\n",
        "    Args:\n",
        "      dataset1: A list or numpy array of numerical data.\n",
        "      dataset2: A list or numpy array of numerical data.\n",
        "\n",
        "    Returns:\n",
        "      A string describing the comparison of standard deviations.\n",
        "      Returns an error message if input data is invalid.\n",
        "    \"\"\"\n",
        "    try:\n",
        "        std_dev1 = np.std(dataset1)\n",
        "        std_dev2 = np.std(dataset2)\n",
        "\n",
        "        if std_dev1 > std_dev2:\n",
        "            return \"Dataset 1 has a larger standard deviation than Dataset 2.\"\n",
        "        elif std_dev2 > std_dev1:\n",
        "            return \"Dataset 2 has a larger standard deviation than Dataset 1.\"\n",
        "        else:\n",
        "            return \"Both datasets have equal standard deviations.\"\n",
        "\n",
        "    except (ValueError, TypeError):\n",
        "        return \"Invalid input data. Please provide numerical lists or numpy arrays.\"\n",
        "\n",
        "\n",
        "# Example usage (replace with your actual datasets)\n",
        "dataset1 = [1, 2, 3, 4, 5]\n",
        "dataset2 = [1, 1, 1, 10, 10]\n",
        "\n",
        "comparison_result = compare_std_dev(dataset1, dataset2)\n",
        "comparison_result\n"
      ],
      "metadata": {
        "colab": {
          "base_uri": "https://localhost:8080/",
          "height": 35
        },
        "id": "rglEDYmeL6V3",
        "outputId": "d0103d77-acfa-4bb2-cde9-1054c785f6ae"
      },
      "execution_count": 27,
      "outputs": [
        {
          "output_type": "execute_result",
          "data": {
            "text/plain": [
              "'Dataset 2 has a larger standard deviation than Dataset 1.'"
            ],
            "application/vnd.google.colaboratory.intrinsic+json": {
              "type": "string"
            }
          },
          "metadata": {},
          "execution_count": 27
        }
      ]
    },
    {
      "cell_type": "code",
      "source": [
        "#20 Write a Python program to visualize covariance using a heatmap\n",
        "import numpy as np\n",
        "import pandas as pd\n",
        "import seaborn as sns\n",
        "import matplotlib.pyplot as plt\n",
        "\n",
        "# Create a sample dataset\n",
        "np.random.seed(0)\n",
        "x = np.random.normal(loc=10, scale=2, size=100)\n",
        "y = x * 1.5 + np.random.normal(loc=0, scale=1, size=100)\n",
        "z = np.random.normal(loc=5, scale=3, size=100)\n",
        "\n",
        "# Combine into a DataFrame\n",
        "df = pd.DataFrame({'X': x, 'Y': y, 'Z': z})\n",
        "\n",
        "# Calculate covariance matrix\n",
        "cov_matrix = df.cov()\n",
        "\n",
        "# Plot heatmap\n",
        "plt.figure(figsize=(6, 4))\n",
        "sns.heatmap(cov_matrix, annot=True, cmap='coolwarm', fmt=\".2f\")\n",
        "plt.title('Covariance Matrix Heatmap')\n",
        "plt.tight_layout()\n",
        "plt.show()"
      ],
      "metadata": {
        "colab": {
          "base_uri": "https://localhost:8080/",
          "height": 407
        },
        "id": "ncQunqCDMRZ5",
        "outputId": "59147078-caee-46f5-9c89-9de51cf99311"
      },
      "execution_count": 29,
      "outputs": [
        {
          "output_type": "display_data",
          "data": {
            "text/plain": [
              "<Figure size 600x400 with 2 Axes>"
            ],
            "image/png": "[encoded data removed]"
          },
          "metadata": {}
        }
      ]
    },
    {
      "cell_type": "code",
      "source": [
        "#21 Use seaborn to create a correlation matrix for a dataset\n",
        "\n",
        "import pandas as pd\n",
        "import seaborn as sns\n",
        "import matplotlib.pyplot as plt\n",
        "\n",
        "# Assuming your DataFrame is named 'df' (replace with your actual DataFrame name)\n",
        "# and it contains numerical columns for which you want to calculate the correlation matrix\n",
        "\n",
        "# Calculate the correlation matrix\n",
        "correlation_matrix = df.corr()\n",
        "\n",
        "# Create the heatmap\n",
        "plt.figure(figsize=(10, 8))  # Adjust figure size as needed\n",
        "sns.heatmap(correlation_matrix, annot=True, cmap='coolwarm', fmt=\".2f\")\n",
        "plt.title('Correlation Matrix Heatmap')\n",
        "plt.show()\n"
      ],
      "metadata": {
        "colab": {
          "base_uri": "https://localhost:8080/",
          "height": 699
        },
        "id": "rtN_dUs1MzWH",
        "outputId": "cf275f72-7924-482e-b0bf-2fc949997034"
      },
      "execution_count": 30,
      "outputs": [
        {
          "output_type": "display_data",
          "data": {
            "text/plain": [
              "<Figure size 1000x800 with 2 Axes>"
            ],
            "image/png": "[encoded data removed]"
          },
          "metadata": {}
        }
      ]
    },
    {
      "cell_type": "code",
      "source": [
        "#22 Generate a dataset and implement both variance and standard deviation computations\n",
        "\n",
        "import numpy as np\n",
        "\n",
        "# Generate a random dataset\n",
        "np.random.seed(0)\n",
        "data = np.random.randint(10, 50, size=10)\n",
        "print(\"Dataset:\", data)\n",
        "\n",
        "# Calculate variance manually\n",
        "mean = sum(data) / len(data)\n",
        "variance_manual = sum((x - mean) ** 2 for x in data) / len(data)  # Population variance\n",
        "print(\"Manual Variance (Population):\", variance_manual)\n",
        "\n",
        "# Calculate standard deviation manually\n",
        "std_dev_manual = variance_manual ** 0.5\n",
        "print(\"Manual Standard Deviation (Population):\", std_dev_manual)\n",
        "\n",
        "# Using NumPy (population variance and std)\n",
        "variance_numpy = np.var(data)\n",
        "std_dev_numpy = np.std(data)\n",
        "print(\"NumPy Variance:\", variance_numpy)\n",
        "print(\"NumPy Standard Deviation:\", std_dev_numpy)\n"
      ],
      "metadata": {
        "colab": {
          "base_uri": "https://localhost:8080/"
        },
        "id": "xojXuNTEM69A",
        "outputId": "45db1dc0-2c57-4143-d935-a034229b231a"
      },
      "execution_count": 31,
      "outputs": [
        {
          "output_type": "stream",
          "name": "stdout",
          "text": [
            "Dataset: [10 13 13 49 19 29 31 46 33 16]\n",
            "Manual Variance (Population): 175.48999999999995\n",
            "Manual Standard Deviation (Population): 13.247263868437132\n",
            "NumPy Variance: 175.48999999999998\n",
            "NumPy Standard Deviation: 13.247263868437134\n"
          ]
        }
      ]
    },
    {
      "cell_type": "code",
      "source": [
        "# 23 Visualize skewness and kurtosis using Python libraries like matplotlib or seaborn\n",
        "\n",
        "import numpy as np\n",
        "import seaborn as sns\n",
        "import matplotlib.pyplot as plt\n",
        "from scipy.stats import skew, kurtosis\n",
        "\n",
        "# Generate a sample dataset (right-skewed)\n",
        "np.random.seed(1)\n",
        "data = np.random.exponential(scale=2.0, size=1000)\n",
        "\n",
        "# Calculate skewness and kurtosis\n",
        "data_skewness = skew(data)\n",
        "data_kurtosis = kurtosis(data)  # Fisher's definition (normal = 0)\n",
        "\n",
        "# Plot the histogram with KDE\n",
        "plt.figure(figsize=(10, 5))\n",
        "sns.histplot(data, bins=30, kde=True, color='skyblue', edgecolor='black')\n",
        "plt.title(f'Distribution with Skewness = {data_skewness:.2f} and Kurtosis = {data_kurtosis:.2f}')\n",
        "plt.xlabel('Value')\n",
        "plt.ylabel('Frequency')\n",
        "plt.grid(True)\n",
        "plt.tight_layout()\n",
        "plt.show()"
      ],
      "metadata": {
        "colab": {
          "base_uri": "https://localhost:8080/",
          "height": 507
        },
        "id": "DjtTIHiVNNoo",
        "outputId": "f860e43a-751e-4844-f257-6c954dcb450c"
      },
      "execution_count": 32,
      "outputs": [
        {
          "output_type": "display_data",
          "data": {
            "text/plain": [
              "<Figure size 1000x500 with 1 Axes>"
            ],
            "image/png": "[encoded data removed]"
          },
          "metadata": {}
        }
      ]
    },
    {
      "cell_type": "code",
      "source": [
        "# 24  Implement the Pearson and Spearman correlation coefficients for a dataset\n",
        "\n",
        "import numpy as np\n",
        "import pandas as pd\n",
        "from scipy.stats import pearsonr, spearmanr  # ✅ Make sure this line is included\n",
        "\n",
        "# Generate sample data\n",
        "np.random.seed(42)\n",
        "x = np.random.normal(50, 10, 100)\n",
        "y = 0.5 * x + np.random.normal(0, 5, 100)  # moderately correlated with x\n",
        "z = np.random.permutation(x)  # uncorrelated with x\n",
        "\n",
        "# Create a DataFrame\n",
        "df = pd.DataFrame({'X': x, 'Y': y, 'Z': z})\n",
        "\n",
        "# Pearson Correlation\n",
        "pearson_xy, _ = pearsonr(df['X'], df['Y'])\n",
        "pearson_xz, _ = pearsonr(df['X'], df['Z'])\n",
        "\n",
        "# Spearman Correlation\n",
        "spearman_xy, _ = spearmanr(df['X'], df['Y'])\n",
        "spearman_xz, _ = spearmanr(df['X'], df['Z'])\n",
        "\n",
        "# Display results\n",
        "print(f\"Pearson Correlation (X vs Y): {pearson_xy:.3f}\")\n",
        "print(f\"Pearson Correlation (X vs Z): {pearson_xz:.3f}\")\n",
        "print(f\"Spearman Correlation (X vs Y): {spearman_xy:.3f}\")\n",
        "print(f\"Spearman Correlation (X vs Z): {spearman_xz:.3f}\")"
      ],
      "metadata": {
        "colab": {
          "base_uri": "https://localhost:8080/"
        },
        "id": "ix7S4YtnNeNv",
        "outputId": "395f565e-d34c-4b73-b472-5835c5e04359"
      },
      "execution_count": 34,
      "outputs": [
        {
          "output_type": "stream",
          "name": "stdout",
          "text": [
            "Pearson Correlation (X vs Y): 0.636\n",
            "Pearson Correlation (X vs Z): 0.250\n",
            "Spearman Correlation (X vs Y): 0.600\n",
            "Spearman Correlation (X vs Z): 0.227\n"
          ]
        }
      ]
    }
  ]
}